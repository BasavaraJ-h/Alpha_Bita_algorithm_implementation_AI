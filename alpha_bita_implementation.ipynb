{
 "cells": [
  {
   "cell_type": "code",
   "execution_count": 10,
   "metadata": {
    "scrolled": false
   },
   "outputs": [
    {
     "name": "stdout",
     "output_type": "stream",
     "text": [
      "The optimal value for min player is  : 3\n"
     ]
    }
   ],
   "source": [
    "# Alpha-Beta Pruning  \n",
    "# Initial values of Aplha and Beta ( taking 1000 as max and -1000 as min Range)  \n",
    "MAX, MIN = 1000, -1000 \n",
    "  \n",
    "# gives the optimal value for current player    \n",
    "def minimax(depth, nodeIndex, maximizingPlayer,  \n",
    "            values, alpha, beta):  \n",
    "   \n",
    "    if depth == 3:  \n",
    "        return values[nodeIndex]    \n",
    "    if maximizingPlayer:         \n",
    "        best = MIN \n",
    "        for i in range(0, 2):  \n",
    "            val = minimax(depth + 1, nodeIndex * 2 + i,  \n",
    "                          False, values, alpha, beta)  \n",
    "            best = max(best, val)  \n",
    "            alpha = max(alpha, best)  \n",
    "            if beta <= alpha:  \n",
    "                break          \n",
    "        return best  \n",
    "    else: \n",
    "        best = MAX  \n",
    "        for i in range(0, 2):  \n",
    "            val = minimax(depth + 1, nodeIndex * 2 + i,  \n",
    "                            True, values, alpha, beta)  \n",
    "            best = min(best, val)  \n",
    "            beta = min(beta, best)  \n",
    "            if beta <= alpha:  \n",
    "                break            \n",
    "        return best  \n",
    "if __name__ == \"__main__\":  \n",
    "    \n",
    "    #leaf nodes \n",
    "    values = [3,12,8,2,4,6,14,5,2]\n",
    "    print(\"The optimal value for min player is  :\", minimax(0, 0, False, values, MIN, MAX)) "
   ]
  },
  {
   "cell_type": "code",
   "execution_count": null,
   "metadata": {},
   "outputs": [],
   "source": []
  }
 ],
 "metadata": {
  "kernelspec": {
   "display_name": "Python 3",
   "language": "python",
   "name": "python3"
  },
  "language_info": {
   "codemirror_mode": {
    "name": "ipython",
    "version": 3
   },
   "file_extension": ".py",
   "mimetype": "text/x-python",
   "name": "python",
   "nbconvert_exporter": "python",
   "pygments_lexer": "ipython3",
   "version": "3.7.3"
  }
 },
 "nbformat": 4,
 "nbformat_minor": 2
}
